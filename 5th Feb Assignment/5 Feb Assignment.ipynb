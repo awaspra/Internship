{
 "cells": [
  {
   "cell_type": "code",
   "execution_count": 2,
   "id": "ecfa4d3e",
   "metadata": {},
   "outputs": [
    {
     "name": "stdout",
     "output_type": "stream",
     "text": [
      "Dr::APJ:Abdul:Kalam:was:a:scientist::teacher:and:the:President:of:India:\n"
     ]
    }
   ],
   "source": [
    "string=\"Dr. APJ Abdul Kalam was a scientist, teacher and the President of India.\"\n",
    "import re\n",
    "rep_text=re.sub(\"[, .]\", \":\",string)\n",
    "print(rep_text)"
   ]
  },
  {
   "cell_type": "code",
   "execution_count": null,
   "id": "1dc9c572",
   "metadata": {},
   "outputs": [],
   "source": [
    "#3rd Answer\n"
   ]
  },
  {
   "cell_type": "code",
   "execution_count": 3,
   "id": "b9839c93",
   "metadata": {},
   "outputs": [
    {
     "name": "stdout",
     "output_type": "stream",
     "text": [
      "['Abdu', 'Kala', 'scie', 'ntis', 'teac', 'Pres', 'iden', 'Indi']\n"
     ]
    }
   ],
   "source": [
    "str2= \"Dr. APJ Abdul Kalam was a scientist, teacher and the President of India.\"\n",
    "string_pattern= r\"\\w{4}\"\n",
    "regex_pattern= re.compile(string_pattern)\n",
    "result=regex_pattern.findall(str2)\n",
    "print(result)"
   ]
  },
  {
   "cell_type": "code",
   "execution_count": null,
   "id": "ccb7222b",
   "metadata": {},
   "outputs": [],
   "source": [
    "#4th Answer"
   ]
  },
  {
   "cell_type": "code",
   "execution_count": 4,
   "id": "709c5c7d",
   "metadata": {},
   "outputs": [
    {
     "name": "stdout",
     "output_type": "stream",
     "text": [
      "['APJ', 'Abdul', 'Kalam', 'was', 'and', 'the', 'India']\n"
     ]
    }
   ],
   "source": [
    "str2= \"Dr. APJ Abdul Kalam was a scientist, teacher and the President of India.\"\n",
    "string_pattern= r\"\\b\\w{3,5}\\b\"\n",
    "regex_pattern= re.compile(string_pattern)\n",
    "result=regex_pattern.findall(str2)\n",
    "print(result)"
   ]
  },
  {
   "cell_type": "code",
   "execution_count": null,
   "id": "0f5279d1",
   "metadata": {},
   "outputs": [],
   "source": [
    "#7th Answer"
   ]
  },
  {
   "cell_type": "code",
   "execution_count": 5,
   "id": "1379b601",
   "metadata": {},
   "outputs": [
    {
     "name": "stdout",
     "output_type": "stream",
     "text": [
      "['Importance', 'Of', 'Refular', 'Expression', 'In', 'Python']\n"
     ]
    }
   ],
   "source": [
    "text=\"ImportanceOfRefularExpressionInPython\"\n",
    "pattern= \"[A-Z][^A-Z]*\"\n",
    "result= re.findall(pattern,text)\n",
    "print(result)"
   ]
  },
  {
   "cell_type": "code",
   "execution_count": null,
   "id": "819f6261",
   "metadata": {},
   "outputs": [],
   "source": [
    "#8th Answer"
   ]
  },
  {
   "cell_type": "code",
   "execution_count": 8,
   "id": "11876075",
   "metadata": {},
   "outputs": [
    {
     "name": "stdout",
     "output_type": "stream",
     "text": [
      "RegularExpression 1IsAn 2ImportantTopic 3InPython\n"
     ]
    }
   ],
   "source": [
    "string= \"RegularExpression1IsAn2ImportantTopic3InPython\"\n",
    "pattern= r'(\\d+)([A-Za-z]+)'\n",
    "result= re.sub(pattern, r' \\1\\2', string)\n",
    "print(result)\n"
   ]
  },
  {
   "cell_type": "code",
   "execution_count": null,
   "id": "d10a2418",
   "metadata": {},
   "outputs": [],
   "source": [
    "#9th Answer"
   ]
  },
  {
   "cell_type": "code",
   "execution_count": 9,
   "id": "45c7fa83",
   "metadata": {},
   "outputs": [
    {
     "name": "stdout",
     "output_type": "stream",
     "text": [
      "RegularExpression 1 IsAn 2 ImportantTopic 3 InPython\n"
     ]
    }
   ],
   "source": [
    "string= \"RegularExpression1IsAn2ImportantTopic3InPython\"\n",
    "pattern= r'(\\d+)([A-Za-z]+)'\n",
    "result= re.sub(pattern, r' \\1 \\2', string)\n",
    "print(result)\n"
   ]
  },
  {
   "cell_type": "code",
   "execution_count": null,
   "id": "e3ace6f3",
   "metadata": {},
   "outputs": [],
   "source": [
    "#23rd Answer"
   ]
  },
  {
   "cell_type": "code",
   "execution_count": 10,
   "id": "d71ccf0f",
   "metadata": {},
   "outputs": [
    {
     "name": "stdout",
     "output_type": "stream",
     "text": [
      "Regular Expression Is An Important Topic In Python\n"
     ]
    }
   ],
   "source": [
    "string= \"RegularExpressionIsAnImportantTopicInPython\"\n",
    "pattern= r\"(\\w)([A-Z])\"\n",
    "result= re.sub(pattern, r\"\\1 \\2\", string)\n",
    "print(result)"
   ]
  },
  {
   "cell_type": "code",
   "execution_count": null,
   "id": "bfd12c62",
   "metadata": {},
   "outputs": [],
   "source": [
    "#16th Answer"
   ]
  },
  {
   "cell_type": "code",
   "execution_count": 11,
   "id": "db298450",
   "metadata": {},
   "outputs": [
    {
     "name": "stdout",
     "output_type": "stream",
     "text": [
      "<re.Match object; span=(16, 19), match='fox'>\n"
     ]
    }
   ],
   "source": [
    "text= \"The quick brown fox jumps over the lazy dog\"\n",
    "pattern= \"fox\"\n",
    "result= re.search(pattern,text)\n",
    "print(result)"
   ]
  },
  {
   "cell_type": "code",
   "execution_count": null,
   "id": "c1940943",
   "metadata": {},
   "outputs": [],
   "source": [
    "#5th Answer"
   ]
  },
  {
   "cell_type": "code",
   "execution_count": 12,
   "id": "b110dafc",
   "metadata": {},
   "outputs": [
    {
     "name": "stdout",
     "output_type": "stream",
     "text": [
      "['example.com', 'hr@fliprobo.com', 'github.com', 'HelloData Science Worlds', 'DataScientist']\n"
     ]
    }
   ],
   "source": [
    "texts=[\"example(.com)\", \"hr@fliprobo(.com)\", \"github(.com)\", \"Hello(Data Science Worlds)\", \"Data(Scientist)\"]\n",
    "string_pattern= r\"[()]\"\n",
    "new_list=[]\n",
    "regex_pattern= re.compile(string_pattern)\n",
    "for text in texts:\n",
    "    result= re.sub(regex_pattern,\"\", text)\n",
    "    new_list.append(result)\n",
    "print(new_list)"
   ]
  },
  {
   "cell_type": "code",
   "execution_count": null,
   "id": "6140d5ed",
   "metadata": {},
   "outputs": [],
   "source": [
    "#6th Answer"
   ]
  },
  {
   "cell_type": "code",
   "execution_count": 13,
   "id": "cc0feace",
   "metadata": {},
   "outputs": [
    {
     "name": "stdout",
     "output_type": "stream",
     "text": [
      "[\"example\", \"hr@fliprobo\", \"github\", \"Hello\", \"Data\"]\n"
     ]
    }
   ],
   "source": [
    "file=open(\"C:/Users/ASUS/Desktop/test1.txt\",'r')\n",
    "text=file.read()\n",
    "newtext=re.sub('\\([^()]*\\)','',text)\n",
    "print(newtext)"
   ]
  },
  {
   "cell_type": "code",
   "execution_count": 14,
   "id": "1ed27572",
   "metadata": {},
   "outputs": [],
   "source": [
    "#10 Answer"
   ]
  },
  {
   "cell_type": "code",
   "execution_count": 15,
   "id": "b10ceac8",
   "metadata": {},
   "outputs": [
    {
     "data": {
      "text/html": [
       "<div>\n",
       "<style scoped>\n",
       "    .dataframe tbody tr th:only-of-type {\n",
       "        vertical-align: middle;\n",
       "    }\n",
       "\n",
       "    .dataframe tbody tr th {\n",
       "        vertical-align: top;\n",
       "    }\n",
       "\n",
       "    .dataframe thead th {\n",
       "        text-align: right;\n",
       "    }\n",
       "</style>\n",
       "<table border=\"1\" class=\"dataframe\">\n",
       "  <thead>\n",
       "    <tr style=\"text-align: right;\">\n",
       "      <th></th>\n",
       "      <th>Country</th>\n",
       "      <th>Region</th>\n",
       "      <th>Happiness Rank</th>\n",
       "      <th>Happiness Score</th>\n",
       "      <th>Standard Error</th>\n",
       "      <th>Economy (GDP per Capita)</th>\n",
       "      <th>Family</th>\n",
       "      <th>Health (Life Expectancy)</th>\n",
       "      <th>Freedom</th>\n",
       "      <th>Trust (Government Corruption)</th>\n",
       "      <th>Generosity</th>\n",
       "      <th>Dystopia Residual</th>\n",
       "      <th>first_five_letters</th>\n",
       "    </tr>\n",
       "  </thead>\n",
       "  <tbody>\n",
       "    <tr>\n",
       "      <th>0</th>\n",
       "      <td>Switzerland</td>\n",
       "      <td>Western Europe</td>\n",
       "      <td>1</td>\n",
       "      <td>7.587</td>\n",
       "      <td>0.03411</td>\n",
       "      <td>1.39651</td>\n",
       "      <td>1.34951</td>\n",
       "      <td>0.94143</td>\n",
       "      <td>0.66557</td>\n",
       "      <td>0.41978</td>\n",
       "      <td>0.29678</td>\n",
       "      <td>2.51738</td>\n",
       "      <td>Switze</td>\n",
       "    </tr>\n",
       "    <tr>\n",
       "      <th>1</th>\n",
       "      <td>Iceland</td>\n",
       "      <td>Western Europe</td>\n",
       "      <td>2</td>\n",
       "      <td>7.561</td>\n",
       "      <td>0.04884</td>\n",
       "      <td>1.30232</td>\n",
       "      <td>1.40223</td>\n",
       "      <td>0.94784</td>\n",
       "      <td>0.62877</td>\n",
       "      <td>0.14145</td>\n",
       "      <td>0.43630</td>\n",
       "      <td>2.70201</td>\n",
       "      <td>Icelan</td>\n",
       "    </tr>\n",
       "    <tr>\n",
       "      <th>2</th>\n",
       "      <td>Denmark</td>\n",
       "      <td>Western Europe</td>\n",
       "      <td>3</td>\n",
       "      <td>7.527</td>\n",
       "      <td>0.03328</td>\n",
       "      <td>1.32548</td>\n",
       "      <td>1.36058</td>\n",
       "      <td>0.87464</td>\n",
       "      <td>0.64938</td>\n",
       "      <td>0.48357</td>\n",
       "      <td>0.34139</td>\n",
       "      <td>2.49204</td>\n",
       "      <td>Denmar</td>\n",
       "    </tr>\n",
       "    <tr>\n",
       "      <th>3</th>\n",
       "      <td>Norway</td>\n",
       "      <td>Western Europe</td>\n",
       "      <td>4</td>\n",
       "      <td>7.522</td>\n",
       "      <td>0.03880</td>\n",
       "      <td>1.45900</td>\n",
       "      <td>1.33095</td>\n",
       "      <td>0.88521</td>\n",
       "      <td>0.66973</td>\n",
       "      <td>0.36503</td>\n",
       "      <td>0.34699</td>\n",
       "      <td>2.46531</td>\n",
       "      <td>Norway</td>\n",
       "    </tr>\n",
       "    <tr>\n",
       "      <th>4</th>\n",
       "      <td>Canada</td>\n",
       "      <td>North America</td>\n",
       "      <td>5</td>\n",
       "      <td>7.427</td>\n",
       "      <td>0.03553</td>\n",
       "      <td>1.32629</td>\n",
       "      <td>1.32261</td>\n",
       "      <td>0.90563</td>\n",
       "      <td>0.63297</td>\n",
       "      <td>0.32957</td>\n",
       "      <td>0.45811</td>\n",
       "      <td>2.45176</td>\n",
       "      <td>Canada</td>\n",
       "    </tr>\n",
       "    <tr>\n",
       "      <th>...</th>\n",
       "      <td>...</td>\n",
       "      <td>...</td>\n",
       "      <td>...</td>\n",
       "      <td>...</td>\n",
       "      <td>...</td>\n",
       "      <td>...</td>\n",
       "      <td>...</td>\n",
       "      <td>...</td>\n",
       "      <td>...</td>\n",
       "      <td>...</td>\n",
       "      <td>...</td>\n",
       "      <td>...</td>\n",
       "      <td>...</td>\n",
       "    </tr>\n",
       "    <tr>\n",
       "      <th>153</th>\n",
       "      <td>Rwanda</td>\n",
       "      <td>Sub-Saharan Africa</td>\n",
       "      <td>154</td>\n",
       "      <td>3.465</td>\n",
       "      <td>0.03464</td>\n",
       "      <td>0.22208</td>\n",
       "      <td>0.77370</td>\n",
       "      <td>0.42864</td>\n",
       "      <td>0.59201</td>\n",
       "      <td>0.55191</td>\n",
       "      <td>0.22628</td>\n",
       "      <td>0.67042</td>\n",
       "      <td>Rwanda</td>\n",
       "    </tr>\n",
       "    <tr>\n",
       "      <th>154</th>\n",
       "      <td>Benin</td>\n",
       "      <td>Sub-Saharan Africa</td>\n",
       "      <td>155</td>\n",
       "      <td>3.340</td>\n",
       "      <td>0.03656</td>\n",
       "      <td>0.28665</td>\n",
       "      <td>0.35386</td>\n",
       "      <td>0.31910</td>\n",
       "      <td>0.48450</td>\n",
       "      <td>0.08010</td>\n",
       "      <td>0.18260</td>\n",
       "      <td>1.63328</td>\n",
       "      <td>Benin</td>\n",
       "    </tr>\n",
       "    <tr>\n",
       "      <th>155</th>\n",
       "      <td>Syria</td>\n",
       "      <td>Middle East and Northern Africa</td>\n",
       "      <td>156</td>\n",
       "      <td>3.006</td>\n",
       "      <td>0.05015</td>\n",
       "      <td>0.66320</td>\n",
       "      <td>0.47489</td>\n",
       "      <td>0.72193</td>\n",
       "      <td>0.15684</td>\n",
       "      <td>0.18906</td>\n",
       "      <td>0.47179</td>\n",
       "      <td>0.32858</td>\n",
       "      <td>Syria</td>\n",
       "    </tr>\n",
       "    <tr>\n",
       "      <th>156</th>\n",
       "      <td>Burundi</td>\n",
       "      <td>Sub-Saharan Africa</td>\n",
       "      <td>157</td>\n",
       "      <td>2.905</td>\n",
       "      <td>0.08658</td>\n",
       "      <td>0.01530</td>\n",
       "      <td>0.41587</td>\n",
       "      <td>0.22396</td>\n",
       "      <td>0.11850</td>\n",
       "      <td>0.10062</td>\n",
       "      <td>0.19727</td>\n",
       "      <td>1.83302</td>\n",
       "      <td>Burund</td>\n",
       "    </tr>\n",
       "    <tr>\n",
       "      <th>157</th>\n",
       "      <td>Togo</td>\n",
       "      <td>Sub-Saharan Africa</td>\n",
       "      <td>158</td>\n",
       "      <td>2.839</td>\n",
       "      <td>0.06727</td>\n",
       "      <td>0.20868</td>\n",
       "      <td>0.13995</td>\n",
       "      <td>0.28443</td>\n",
       "      <td>0.36453</td>\n",
       "      <td>0.10731</td>\n",
       "      <td>0.16681</td>\n",
       "      <td>1.56726</td>\n",
       "      <td>Togo</td>\n",
       "    </tr>\n",
       "  </tbody>\n",
       "</table>\n",
       "<p>158 rows × 13 columns</p>\n",
       "</div>"
      ],
      "text/plain": [
       "         Country                           Region  Happiness Rank  \\\n",
       "0    Switzerland                   Western Europe               1   \n",
       "1        Iceland                   Western Europe               2   \n",
       "2        Denmark                   Western Europe               3   \n",
       "3         Norway                   Western Europe               4   \n",
       "4         Canada                    North America               5   \n",
       "..           ...                              ...             ...   \n",
       "153       Rwanda               Sub-Saharan Africa             154   \n",
       "154        Benin               Sub-Saharan Africa             155   \n",
       "155        Syria  Middle East and Northern Africa             156   \n",
       "156      Burundi               Sub-Saharan Africa             157   \n",
       "157         Togo               Sub-Saharan Africa             158   \n",
       "\n",
       "     Happiness Score  Standard Error  Economy (GDP per Capita)   Family  \\\n",
       "0              7.587         0.03411                   1.39651  1.34951   \n",
       "1              7.561         0.04884                   1.30232  1.40223   \n",
       "2              7.527         0.03328                   1.32548  1.36058   \n",
       "3              7.522         0.03880                   1.45900  1.33095   \n",
       "4              7.427         0.03553                   1.32629  1.32261   \n",
       "..               ...             ...                       ...      ...   \n",
       "153            3.465         0.03464                   0.22208  0.77370   \n",
       "154            3.340         0.03656                   0.28665  0.35386   \n",
       "155            3.006         0.05015                   0.66320  0.47489   \n",
       "156            2.905         0.08658                   0.01530  0.41587   \n",
       "157            2.839         0.06727                   0.20868  0.13995   \n",
       "\n",
       "     Health (Life Expectancy)  Freedom  Trust (Government Corruption)  \\\n",
       "0                     0.94143  0.66557                        0.41978   \n",
       "1                     0.94784  0.62877                        0.14145   \n",
       "2                     0.87464  0.64938                        0.48357   \n",
       "3                     0.88521  0.66973                        0.36503   \n",
       "4                     0.90563  0.63297                        0.32957   \n",
       "..                        ...      ...                            ...   \n",
       "153                   0.42864  0.59201                        0.55191   \n",
       "154                   0.31910  0.48450                        0.08010   \n",
       "155                   0.72193  0.15684                        0.18906   \n",
       "156                   0.22396  0.11850                        0.10062   \n",
       "157                   0.28443  0.36453                        0.10731   \n",
       "\n",
       "     Generosity  Dystopia Residual first_five_letters  \n",
       "0       0.29678            2.51738             Switze  \n",
       "1       0.43630            2.70201             Icelan  \n",
       "2       0.34139            2.49204             Denmar  \n",
       "3       0.34699            2.46531             Norway  \n",
       "4       0.45811            2.45176             Canada  \n",
       "..          ...                ...                ...  \n",
       "153     0.22628            0.67042             Rwanda  \n",
       "154     0.18260            1.63328              Benin  \n",
       "155     0.47179            0.32858              Syria  \n",
       "156     0.19727            1.83302             Burund  \n",
       "157     0.16681            1.56726               Togo  \n",
       "\n",
       "[158 rows x 13 columns]"
      ]
     },
     "execution_count": 15,
     "metadata": {},
     "output_type": "execute_result"
    }
   ],
   "source": [
    "import pandas as pd\n",
    "df=pd.read_csv(\"https://raw.githubusercontent.com/dsrscientist/DSData/master/happiness_score_dataset.csv\")\n",
    "df['first_five_letters']=df['Country'].apply(lambda m:m[:6])\n",
    "df"
   ]
  },
  {
   "cell_type": "code",
   "execution_count": 16,
   "id": "5abcd078",
   "metadata": {},
   "outputs": [],
   "source": [
    "#11th Answer"
   ]
  },
  {
   "cell_type": "code",
   "execution_count": 17,
   "id": "a3a18769",
   "metadata": {},
   "outputs": [
    {
     "name": "stdout",
     "output_type": "stream",
     "text": [
      "Matched!\n"
     ]
    }
   ],
   "source": [
    "target_string= \"123ABCabcALPHANUMERIC_NUMBER\"\n",
    "pattern= '^[a-zA-z0-9_]*$'\n",
    "if re.search(pattern,target_string):\n",
    "    print(\"Matched!\")\n",
    "else:\n",
    "    print(\"Not Matched!\")\n"
   ]
  },
  {
   "cell_type": "code",
   "execution_count": 18,
   "id": "a5779a71",
   "metadata": {},
   "outputs": [],
   "source": [
    "#12th Answer"
   ]
  },
  {
   "cell_type": "code",
   "execution_count": 19,
   "id": "890e1567",
   "metadata": {},
   "outputs": [
    {
     "name": "stdout",
     "output_type": "stream",
     "text": [
      "Matched!\n"
     ]
    }
   ],
   "source": [
    "target_string= \"123ABCabcALPHANUMERIC_NUMBER\"\n",
    "pattern= '[0-9]'\n",
    "if re.match(pattern,target_string):\n",
    "    print(\"Matched!\")\n",
    "else:\n",
    "    print(\"Not Matched!\")"
   ]
  },
  {
   "cell_type": "code",
   "execution_count": 20,
   "id": "41a99169",
   "metadata": {},
   "outputs": [],
   "source": [
    "#13th Answer"
   ]
  },
  {
   "cell_type": "code",
   "execution_count": 21,
   "id": "2a9c0819",
   "metadata": {},
   "outputs": [
    {
     "name": "stdout",
     "output_type": "stream",
     "text": [
      "45.6.23.345\n"
     ]
    }
   ],
   "source": [
    "ip= \"045.06.023.345\"\n",
    "pattern= \"[0]*\"\n",
    "result= re.sub(pattern, \"\", ip)\n",
    "print(result)"
   ]
  },
  {
   "cell_type": "code",
   "execution_count": 22,
   "id": "a90895cf",
   "metadata": {},
   "outputs": [],
   "source": [
    "#14th Answer"
   ]
  },
  {
   "cell_type": "code",
   "execution_count": 23,
   "id": "75f8fc3d",
   "metadata": {},
   "outputs": [
    {
     "name": "stdout",
     "output_type": "stream",
     "text": [
      "\"On August 15th 1947 the India was decalred independent from the British rule.\"\n",
      "['August 15th 1947']\n"
     ]
    }
   ],
   "source": [
    "file=open('C:/Users/ASUS/Desktop/textfile.txt','r')\n",
    "text=file.read()\n",
    "print(text)\n",
    "test=\"On August 15th 1947 the India was decalred independent from the British rule.\"\n",
    "pattern= r\"\\b([A-Z][a-z]+ \\d{1,2}(?:st|nd|rd|th)? \\d{4}) \\b\"\n",
    "result1= re.findall(pattern,test)\n",
    "print(result1)\n"
   ]
  },
  {
   "cell_type": "code",
   "execution_count": 24,
   "id": "e147384a",
   "metadata": {},
   "outputs": [],
   "source": [
    "#15th Answer"
   ]
  },
  {
   "cell_type": "code",
   "execution_count": 25,
   "id": "1224aa71",
   "metadata": {},
   "outputs": [
    {
     "name": "stdout",
     "output_type": "stream",
     "text": [
      "<regex.Match object; span=(16, 19), match='fox'>\n",
      "<regex.Match object; span=(40, 43), match='dog'>\n",
      "None\n"
     ]
    }
   ],
   "source": [
    "import regex as re\n",
    "text= \"The quick brown fox jumps over the lazy dog\"\n",
    "patterns= ['fox', 'dog', 'horse']\n",
    "for x in patterns:\n",
    "    result= re.search(x, text)\n",
    "    print(result)"
   ]
  },
  {
   "cell_type": "code",
   "execution_count": 26,
   "id": "5fbd179f",
   "metadata": {},
   "outputs": [],
   "source": [
    "#17th Answer"
   ]
  },
  {
   "cell_type": "code",
   "execution_count": 27,
   "id": "e2836d04",
   "metadata": {},
   "outputs": [
    {
     "name": "stdout",
     "output_type": "stream",
     "text": [
      "['exercises', 'exercises', 'exercises']\n"
     ]
    }
   ],
   "source": [
    "textt= 'Python exercises, PHP exercises, C# exercises'\n",
    "pattern1= 'exercises'\n",
    "result= re.findall(pattern1,textt)\n",
    "print(result)"
   ]
  },
  {
   "cell_type": "code",
   "execution_count": 28,
   "id": "c094ff9b",
   "metadata": {},
   "outputs": [],
   "source": [
    "#19th Answer"
   ]
  },
  {
   "cell_type": "code",
   "execution_count": 29,
   "id": "34365fdf",
   "metadata": {},
   "outputs": [
    {
     "name": "stdout",
     "output_type": "stream",
     "text": [
      "04-02-2024\n"
     ]
    }
   ],
   "source": [
    "date=\"2024-02-04\"\n",
    "pattern= r'(\\d{4})-(\\d{1,2})-(\\d{1,2})'\n",
    "newdate=re.sub(pattern,'\\\\3-\\\\2-\\\\1',date)\n",
    "print(newdate)"
   ]
  },
  {
   "cell_type": "code",
   "execution_count": 30,
   "id": "9b3dfdad",
   "metadata": {},
   "outputs": [],
   "source": [
    "#20th Answer"
   ]
  },
  {
   "cell_type": "code",
   "execution_count": 31,
   "id": "12b1d3ee",
   "metadata": {},
   "outputs": [
    {
     "name": "stdout",
     "output_type": "stream",
     "text": [
      "['01.32', '0132.12', '2.31', '145.8', '3.01', '27.25', '0.25']\n"
     ]
    }
   ],
   "source": [
    "text= \"01.32 0132.123 2.31546 145.8 3.01 27.25 0.25\"\n",
    "pattern= r\"\\d+\\.\\d{1,2}\"\n",
    "#regex_pattern= re.compile(pattern)\n",
    "pattern= re.compile(pattern)\n",
    "result= re.findall(pattern,text)\n",
    "print(result)"
   ]
  },
  {
   "cell_type": "code",
   "execution_count": 32,
   "id": "f190de29",
   "metadata": {},
   "outputs": [],
   "source": [
    "#21st Answer"
   ]
  },
  {
   "cell_type": "code",
   "execution_count": 33,
   "id": "bd35f1cc",
   "metadata": {},
   "outputs": [
    {
     "name": "stdout",
     "output_type": "stream",
     "text": [
      "<regex.Match object; span=(55, 57), match='38'>\n",
      "<regex.Match object; span=(105, 106), match='5'>\n"
     ]
    }
   ],
   "source": [
    "target_string= \"Emma ia basketball player who is playing at the age of 38 years is winning the matches continuously from 5 years.\"\n",
    "result= re.finditer(r\"\\d+\", target_string)\n",
    "for match_object in result:\n",
    "    print(match_object)\n",
    "    "
   ]
  },
  {
   "cell_type": "code",
   "execution_count": 34,
   "id": "5042d5bd",
   "metadata": {},
   "outputs": [],
   "source": [
    "#22nd Answer"
   ]
  },
  {
   "cell_type": "code",
   "execution_count": 35,
   "id": "a8c28eaa",
   "metadata": {},
   "outputs": [
    {
     "name": "stdout",
     "output_type": "stream",
     "text": [
      "947\n"
     ]
    }
   ],
   "source": [
    "text= \"947,896,524.734,888,747\"\n",
    "result= re.findall(r\"\\d+\", text)\n",
    "max_value=max(result)\n",
    "print(max_value)"
   ]
  },
  {
   "cell_type": "code",
   "execution_count": 36,
   "id": "b2757491",
   "metadata": {},
   "outputs": [],
   "source": [
    "#25th Answer"
   ]
  },
  {
   "cell_type": "code",
   "execution_count": 37,
   "id": "99c6ddb6",
   "metadata": {},
   "outputs": [
    {
     "name": "stdout",
     "output_type": "stream",
     "text": [
      "Hello world\n"
     ]
    }
   ],
   "source": [
    "text=\"Hello Hello world world\"\n",
    "pattern=r'\\b(\\w+)(?:\\W\\1\\b)+'\n",
    "result= re.sub(pattern, r'\\1', text,)\n",
    "print(result)"
   ]
  },
  {
   "cell_type": "code",
   "execution_count": 38,
   "id": "64832ed5",
   "metadata": {},
   "outputs": [],
   "source": [
    "#26th Answer"
   ]
  },
  {
   "cell_type": "code",
   "execution_count": 39,
   "id": "fb976099",
   "metadata": {},
   "outputs": [
    {
     "name": "stdout",
     "output_type": "stream",
     "text": [
      "Accept\n"
     ]
    }
   ],
   "source": [
    "text='richa123'\n",
    "pattern='[A-Za-z0-9]$'\n",
    "if (re.search(pattern,text)):\n",
    "    print(\"Accept\")\n",
    "else:\n",
    "    print(\"Decline\")"
   ]
  },
  {
   "cell_type": "code",
   "execution_count": 40,
   "id": "7c5c195e",
   "metadata": {},
   "outputs": [],
   "source": [
    "#27th Answer"
   ]
  },
  {
   "cell_type": "code",
   "execution_count": 41,
   "id": "6d76a90c",
   "metadata": {},
   "outputs": [
    {
     "name": "stdout",
     "output_type": "stream",
     "text": [
      "['#Doltiwal', '#xyzabc', '#Demonetization']\n"
     ]
    }
   ],
   "source": [
    "text=\"RT @kapil_kaushik:#Doltiwal I mean #xyzabc is 'hurt' by #Demonetization as the same has rendered<ed>\"\n",
    "pattern=r'#\\w+'\n",
    "result= re.findall(pattern,text)\n",
    "print(result)"
   ]
  },
  {
   "cell_type": "code",
   "execution_count": 42,
   "id": "e4f6b4c4",
   "metadata": {},
   "outputs": [],
   "source": [
    "#28th Answer"
   ]
  },
  {
   "cell_type": "code",
   "execution_count": 43,
   "id": "3c74081e",
   "metadata": {},
   "outputs": [
    {
     "name": "stdout",
     "output_type": "stream",
     "text": [
      "@Jags123456 Bharat band on 28??<ed>>><ed>>>Those who protest against the party\n"
     ]
    }
   ],
   "source": [
    "text=\"@Jags123456 Bharat band on 28??<ed><U+00AO><U+00BD><ed><U+00B8><U+0082>Those who protest against the party\"\n",
    "pattern=r\"<U\\+\\w{4}\"\n",
    "result= re.sub(pattern, \"\", text)\n",
    "print(result)"
   ]
  },
  {
   "cell_type": "code",
   "execution_count": 44,
   "id": "298c293b",
   "metadata": {},
   "outputs": [],
   "source": [
    "#29th Answer"
   ]
  },
  {
   "cell_type": "code",
   "execution_count": 45,
   "id": "cff1d76d",
   "metadata": {},
   "outputs": [
    {
     "name": "stdout",
     "output_type": "stream",
     "text": [
      "Ron was born on 11-02-1998 and he was admitted to school on 11-02-2000\n",
      "['11-02-1998', '11-02-2000']\n"
     ]
    }
   ],
   "source": [
    "file=open(\"C:/Users/ASUS/Desktop/test2.txt\",'r')\n",
    "text=file.read()\n",
    "print(text)\n",
    "pattern= r'\\d{2}-\\d{2}-\\d{4}'\n",
    "result= re.findall(pattern,text)\n",
    "print(result)\n"
   ]
  },
  {
   "cell_type": "code",
   "execution_count": 46,
   "id": "d125b506",
   "metadata": {},
   "outputs": [],
   "source": [
    "#30th Answer"
   ]
  },
  {
   "cell_type": "code",
   "execution_count": 47,
   "id": "f5df791f",
   "metadata": {},
   "outputs": [
    {
     "name": "stdout",
     "output_type": "stream",
     "text": [
      " following example creates  ArrayList  a capacity   elements,4 elements    added   Arratlist   Array   trimmed accordingly.\n"
     ]
    }
   ],
   "source": [
    "text=\"The following example creates an ArrayList with a capacity of 50 elements,4 elements and are then added to the Arratlist and the Array list is trimmed accordingly.\"\n",
    "pattern= (r\"\\b\\w{2,4}\\b\")\n",
    "regex_pattern= re.compile(pattern)\n",
    "result= re.sub(regex_pattern, \"\", text)\n",
    "print(result)"
   ]
  },
  {
   "cell_type": "code",
   "execution_count": 48,
   "id": "8a20e067",
   "metadata": {},
   "outputs": [],
   "source": [
    "#18th Answer"
   ]
  },
  {
   "cell_type": "code",
   "execution_count": 55,
   "id": "bd646451",
   "metadata": {},
   "outputs": [
    {
     "name": "stdout",
     "output_type": "stream",
     "text": [
      "<regex.Match object; span=(7, 16), match='exercises'>\n",
      "<regex.Match object; span=(22, 31), match='exercises'>\n",
      "<regex.Match object; span=(36, 45), match='exercises'>\n",
      "number of occurances= 3\n"
     ]
    }
   ],
   "source": [
    "text=\"Python exercises, PHP exercises, C# exercises\"\n",
    "pattern=\"exercises\"\n",
    "count=0\n",
    "result= re.finditer(pattern,text)\n",
    "for m in result:\n",
    "    count+=1\n",
    "    print(m)\n",
    "print(\"number of occurances=\", count)"
   ]
  },
  {
   "cell_type": "code",
   "execution_count": null,
   "id": "15948904",
   "metadata": {},
   "outputs": [],
   "source": [
    "#24th Answer"
   ]
  },
  {
   "cell_type": "code",
   "execution_count": 56,
   "id": "71a86e6a",
   "metadata": {},
   "outputs": [
    {
     "name": "stdout",
     "output_type": "stream",
     "text": [
      "['The', 'Lazy']\n"
     ]
    }
   ],
   "source": [
    "texts= 'The Lazy FOX jumps'\n",
    "pattern='[A-Z][a-z]+'\n",
    "\n",
    "result= re.findall(pattern,texts)\n",
    "print(result)  \n",
    "   "
   ]
  },
  {
   "cell_type": "code",
   "execution_count": null,
   "id": "39bb93c3",
   "metadata": {},
   "outputs": [],
   "source": []
  }
 ],
 "metadata": {
  "kernelspec": {
   "display_name": "Python 3 (ipykernel)",
   "language": "python",
   "name": "python3"
  },
  "language_info": {
   "codemirror_mode": {
    "name": "ipython",
    "version": 3
   },
   "file_extension": ".py",
   "mimetype": "text/x-python",
   "name": "python",
   "nbconvert_exporter": "python",
   "pygments_lexer": "ipython3",
   "version": "3.11.4"
  }
 },
 "nbformat": 4,
 "nbformat_minor": 5
}
